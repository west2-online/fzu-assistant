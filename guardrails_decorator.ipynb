{
 "cells": [
  {
   "cell_type": "code",
   "execution_count": null,
   "id": "e04b6868-5d77-4b94-9e2f-731693cfa298",
   "metadata": {},
   "outputs": [],
   "source": [
    "from utils import OuputFilter, InputFilter, HallucinationFilter\n",
    "import warnings\n",
    "\n",
    "class GuardRails:\n",
    "\n",
    "    _inputt_validator = None\n",
    "    output_validator = None\n",
    "    hallucination_validator = None\n",
    "\n",
    "    @classmethod\n",
    "    def validator_configure(cls, tool_llm):\n",
    "        cls._inputt_validator = InputFilter(tool_llm)\n",
    "        cls.output_validator = OuputFilter(tool_llm)\n",
    "        cls.hallucination_validator = HallucinationFilter(tool_llm)\n",
    "\n",
    "    def __init__(self, tool_llm, stream=False):\n",
    "        self.stream = stream\n",
    "        if GuardRails._inputt_validator is None or GuardRails.output_validator is None or GuardRails.hallucination_validator is None:\n",
    "            GuardRails.validator_configure(tool_llm)\n",
    "\n",
    "    @staticmethod\n",
    "    def guardrails(func):\n",
    "        def _func(*args, **kwargs):\n",
    "\n",
    "            _inputt = args[1]\n",
    "\n",
    "            if(GuardRails._inputt_validator(_inputt)):\n",
    "                return(\"Input Invalid!\")\n",
    "            \n",
    "            output = func(*args, **kwargs)\n",
    "            \n",
    "            result = output.get(\"response\")\n",
    "            if(GuardRails.output_validator(result) == 0):\n",
    "                return(\"Output Invalid!\")\n",
    "            \n",
    "            hallucination_value = GuardRails.hallucination_validator(result, output.get(\"vector_results\"), _inputt)\n",
    "            if(hallucination_value == -1):\n",
    "                warnings.warn(\"Faithfulness Hallucination!\")\n",
    "            if(hallucination_value == 1 or hallucination_value == 3):\n",
    "                warnings.warn(\"Factuality Hallucination!\")\n",
    "            if(hallucination_value == 4):\n",
    "                warnings.warn(\"Can't Validate Factuality Hallucination.\")\n",
    "            \n",
    "            # print(hallucination_value)\n",
    "            \n",
    "            return result\n",
    "        return _func\n",
    "\n",
    "    @staticmethod\n",
    "    def guardrails_stream(func):\n",
    "        def _func(*args, **kwargs):\n",
    "\n",
    "            _inputt = args[1]\n",
    "\n",
    "            if(GuardRails._inputt_validator(_inputt)):\n",
    "                return(\"Input Invalid!\")\n",
    "            \n",
    "            output = \"\"\n",
    "            for chunk in func(*args, **kwargs):\n",
    "                output += chunk if isinstance(chunk, str) else chunk.content\n",
    "\n",
    "            if(GuardRails.output_validator(output) == 0):\n",
    "                return(\"Output Invalid!\")\n",
    "            \n",
    "            hallucination_value = GuardRails.hallucination_validator(output, chunk.get(\"vector_results\"), _inputt)\n",
    "            if(hallucination_value == -1):\n",
    "                warnings.warn(\"Faithfulness Hallucination!\")\n",
    "            if(hallucination_value == 1 or hallucination_value == 3):\n",
    "                warnings.warn(\"Factuality Hallucination!\")\n",
    "            if(hallucination_value == 4):\n",
    "                warnings.warn(\"Can't Validate Factuality Hallucination.\")\n",
    "            \n",
    "            # print(hallucination_value)\n",
    "\n",
    "            return output\n",
    "        return _func\n",
    "            \n",
    "\n",
    "    def __call__(self, func):\n",
    "        if self.stream is False:\n",
    "            func = self.guardrails(func)\n",
    "        elif self.stream is True:\n",
    "            func = self.guardrails_stream(func)\n",
    "        return func\n"
   ]
  },
  {
   "cell_type": "code",
   "execution_count": null,
   "id": "ac0a0158",
   "metadata": {},
   "outputs": [],
   "source": [
    "import typing as t\n",
    "\n",
    "class State(t.TypedDict):\n",
    "    origin_query: str\n",
    "    similar_queries: t.Optional[t.List[str]]\n",
    "    vector_results: t.Optional[t.List[str]]\n",
    "    response: t.Optional[str]\n",
    "    history: t.List[str]\n",
    "    token_usage: int"
   ]
  },
  {
   "cell_type": "code",
   "execution_count": null,
   "id": "0b13143c-0080-4591-b1ac-8c1ef3b299a2",
   "metadata": {},
   "outputs": [],
   "source": [
    "from llms import tool_llm\n",
    "class RAG:\n",
    "    @GuardRails(stream=False, tool_llm=tool_llm)\n",
    "    def query(self, query, history=None):\n",
    "        return State(origin_query=query, response=query,vector_results=query)\n",
    "    @GuardRails(stream=True, tool_llm=tool_llm)\n",
    "    def stream(self, query, history=None):\n",
    "        for c in query:\n",
    "            yield State(origin_query=query, response=c,vector_results=query)"
   ]
  },
  {
   "cell_type": "code",
   "execution_count": null,
   "id": "01760f3d-c340-448e-8603-a2527412823a",
   "metadata": {},
   "outputs": [
    {
     "data": {
      "text/plain": [
       "-1\n",
       "你好\n"
      ]
     },
     "metadata": {},
     "output_type": "display_data"
    }
   ],
   "source": [
    "rag = RAG()\n",
    "result = rag.query(\"你好\")\n",
    "print(result)"
   ]
  },
  {
   "cell_type": "code",
   "execution_count": null,
   "id": "f29fe647-7b37-4a3a-842f-93ed1599e642",
   "metadata": {},
   "outputs": [
    {
     "data": {
      "text/plain": [
       "-1\n",
       "你|好|"
      ]
     },
     "metadata": {},
     "output_type": "display_data"
    }
   ],
   "source": [
    "for chunk in rag.stream(\"你好\"):\n",
    "    print(chunk, end=\"|\")"
   ]
  },
  {
   "cell_type": "code",
   "execution_count": null,
   "id": "67249a30-7176-4fc2-bbf0-4f78ccd7d45e",
   "metadata": {},
   "outputs": [],
   "source": []
  }
 ],
 "metadata": {
  "kernelspec": {
   "display_name": "Python 3 (ipykernel)",
   "language": "python",
   "name": "python3"
  },
  "language_info": {
   "codemirror_mode": {
    "name": "ipython",
    "version": 3
   },
   "file_extension": ".py",
   "mimetype": "text/x-python",
   "name": "python",
   "nbconvert_exporter": "python",
   "pygments_lexer": "ipython3",
   "version": "3.12.3"
  }
 },
 "nbformat": 4,
 "nbformat_minor": 5
}
